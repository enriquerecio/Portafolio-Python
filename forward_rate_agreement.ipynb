{
 "cells": [
  {
   "cell_type": "code",
   "execution_count": 181,
   "metadata": {},
   "outputs": [],
   "source": [
    "import pandas as pd\n",
    "import numpy as np\n",
    "from IPython.display import Image"
   ]
  },
  {
   "cell_type": "markdown",
   "metadata": {},
   "source": [
    "## Ejercicio\n",
    "FRA Existente: 91 x 182\n",
    "<br>\n",
    "FRA Inexistente: 91 x 220"
   ]
  },
  {
   "cell_type": "code",
   "execution_count": 182,
   "metadata": {},
   "outputs": [],
   "source": [
    "# Queremos que pandas nos muestre ocho decimales al imprimir\n",
    "pd.options.display.float_format = '{:,.8f}'.format"
   ]
  },
  {
   "cell_type": "code",
   "execution_count": 183,
   "metadata": {},
   "outputs": [],
   "source": [
    "# Definimos variables\n",
    "deuda = 4800000\n",
    "tiie_91 = 0.047422\n",
    "fra_ex = np.array([91, 182])\n",
    "fra_inex = np.array([91, 220])"
   ]
  },
  {
   "cell_type": "code",
   "execution_count": 184,
   "metadata": {},
   "outputs": [
    {
     "data": {
      "text/html": [
       "<div>\n",
       "<style scoped>\n",
       "    .dataframe tbody tr th:only-of-type {\n",
       "        vertical-align: middle;\n",
       "    }\n",
       "\n",
       "    .dataframe tbody tr th {\n",
       "        vertical-align: top;\n",
       "    }\n",
       "\n",
       "    .dataframe thead th {\n",
       "        text-align: right;\n",
       "    }\n",
       "</style>\n",
       "<table border=\"1\" class=\"dataframe\">\n",
       "  <thead>\n",
       "    <tr style=\"text-align: right;\">\n",
       "      <th></th>\n",
       "      <th>Pasivas</th>\n",
       "      <th>Activas</th>\n",
       "    </tr>\n",
       "  </thead>\n",
       "  <tbody>\n",
       "    <tr>\n",
       "      <th>91</th>\n",
       "      <td>0.04872200</td>\n",
       "      <td>0.04952200</td>\n",
       "    </tr>\n",
       "    <tr>\n",
       "      <th>182</th>\n",
       "      <td>0.05034200</td>\n",
       "      <td>0.05138200</td>\n",
       "    </tr>\n",
       "  </tbody>\n",
       "</table>\n",
       "</div>"
      ],
      "text/plain": [
       "       Pasivas    Activas\n",
       "91  0.04872200 0.04952200\n",
       "182 0.05034200 0.05138200"
      ]
     },
     "execution_count": 184,
     "metadata": {},
     "output_type": "execute_result"
    }
   ],
   "source": [
    "# Creamos tabla de tasas activas y pasivas\n",
    "tasas = pd.DataFrame(index = fra_ex, columns = ['Pasivas', 'Activas'])\n",
    "tasas['Pasivas'] = [((0.13/100) + tiie_91), ((0.292/100) + tiie_91)]\n",
    "tasas['Activas'] = [((0.21/100) + tiie_91), ((0.396/100) + tiie_91)]\n",
    "tasas"
   ]
  },
  {
   "cell_type": "code",
   "execution_count": 185,
   "metadata": {},
   "outputs": [
    {
     "data": {
      "text/html": [
       "<div>\n",
       "<style scoped>\n",
       "    .dataframe tbody tr th:only-of-type {\n",
       "        vertical-align: middle;\n",
       "    }\n",
       "\n",
       "    .dataframe tbody tr th {\n",
       "        vertical-align: top;\n",
       "    }\n",
       "\n",
       "    .dataframe thead th {\n",
       "        text-align: right;\n",
       "    }\n",
       "</style>\n",
       "<table border=\"1\" class=\"dataframe\">\n",
       "  <thead>\n",
       "    <tr style=\"text-align: right;\">\n",
       "      <th></th>\n",
       "      <th>Pasivas</th>\n",
       "      <th>Activas</th>\n",
       "    </tr>\n",
       "  </thead>\n",
       "  <tbody>\n",
       "    <tr>\n",
       "      <th>91</th>\n",
       "      <td>0.01231584</td>\n",
       "      <td>0.01251806</td>\n",
       "    </tr>\n",
       "    <tr>\n",
       "      <th>182</th>\n",
       "      <td>0.02545068</td>\n",
       "      <td>0.02597646</td>\n",
       "    </tr>\n",
       "  </tbody>\n",
       "</table>\n",
       "</div>"
      ],
      "text/plain": [
       "       Pasivas    Activas\n",
       "91  0.01231584 0.01251806\n",
       "182 0.02545068 0.02597646"
      ]
     },
     "execution_count": 185,
     "metadata": {},
     "output_type": "execute_result"
    }
   ],
   "source": [
    "# Llevamos tabla de tasas al plazo\n",
    "t1 = tasas.iloc[0]*fra_ex[0]/360\n",
    "t2 = tasas.iloc[1]*fra_ex[1]/360\n",
    "tasas_plazo = pd.DataFrame([t1, t2])\n",
    "tasas_plazo"
   ]
  },
  {
   "cell_type": "code",
   "execution_count": 186,
   "metadata": {},
   "outputs": [
    {
     "data": {
      "text/html": [
       "<div>\n",
       "<style scoped>\n",
       "    .dataframe tbody tr th:only-of-type {\n",
       "        vertical-align: middle;\n",
       "    }\n",
       "\n",
       "    .dataframe tbody tr th {\n",
       "        vertical-align: top;\n",
       "    }\n",
       "\n",
       "    .dataframe thead th {\n",
       "        text-align: right;\n",
       "    }\n",
       "</style>\n",
       "<table border=\"1\" class=\"dataframe\">\n",
       "  <thead>\n",
       "    <tr style=\"text-align: right;\">\n",
       "      <th></th>\n",
       "      <th>FRA 91</th>\n",
       "      <th>FRA 360</th>\n",
       "      <th>FRA 129</th>\n",
       "    </tr>\n",
       "  </thead>\n",
       "  <tbody>\n",
       "    <tr>\n",
       "      <th>Tasa Crédito</th>\n",
       "      <td>0.01349442</td>\n",
       "      <td>0.05338452</td>\n",
       "      <td>0.01912945</td>\n",
       "    </tr>\n",
       "    <tr>\n",
       "      <th>Tasa Inversión</th>\n",
       "      <td>0.01277273</td>\n",
       "      <td>NaN</td>\n",
       "      <td>NaN</td>\n",
       "    </tr>\n",
       "    <tr>\n",
       "      <th>Tasa Mercado</th>\n",
       "      <td>0.03791667</td>\n",
       "      <td>NaN</td>\n",
       "      <td>NaN</td>\n",
       "    </tr>\n",
       "  </tbody>\n",
       "</table>\n",
       "</div>"
      ],
      "text/plain": [
       "                   FRA 91    FRA 360    FRA 129\n",
       "Tasa Crédito   0.01349442 0.05338452 0.01912945\n",
       "Tasa Inversión 0.01277273        NaN        NaN\n",
       "Tasa Mercado   0.03791667        NaN        NaN"
      ]
     },
     "execution_count": 186,
     "metadata": {},
     "output_type": "execute_result"
    }
   ],
   "source": [
    "# Creamos tabla de resumen de tasas\n",
    "index = ['Tasa Crédito', 'Tasa Inversión', 'Tasa Mercado']\n",
    "columns = ['FRA 91', 'FRA 360', 'FRA 129']\n",
    "resumen = pd.DataFrame(index = index, columns = columns)\n",
    "\n",
    "resumen['FRA 91'].iloc[0] = ((1 + t2[1])/(1 + t1[0]) - 1)\n",
    "resumen['FRA 91'].iloc[1] = ((1 + t2[0])/(1 + t1[1]) - 1)\n",
    "tasa = 0.15\n",
    "resumen['FRA 91'].iloc[2] = tasa*fra_ex[0]/360\n",
    "resumen['FRA 360'].iloc[0] = resumen['FRA 91'].iloc[0]*360/fra_ex[0]\n",
    "resumen['FRA 129'].iloc[0] = resumen['FRA 360'].iloc[0]*(fra_inex[1]-fra_inex[0])/360\n",
    "resumen"
   ]
  },
  {
   "cell_type": "code",
   "execution_count": 187,
   "metadata": {},
   "outputs": [],
   "source": [
    "# Queremos que pandas nos muestre dos decimales al imprimir\n",
    "pd.options.display.float_format = '{:,.2f}'.format"
   ]
  },
  {
   "cell_type": "code",
   "execution_count": 188,
   "metadata": {
    "scrolled": true
   },
   "outputs": [
    {
     "name": "stdout",
     "output_type": "stream",
     "text": [
      "                               Value\n",
      "Cap. Deuda a FRA 91     4,864,773.22\n",
      "Cap. Deuda a Mercado 91 4,982,000.00\n",
      "FRA-Mercado               117,226.78\n",
      "Fra-Mercado VA            112,944.31\n",
      "\n",
      "Esta cantidad se acredita al cliente\n"
     ]
    }
   ],
   "source": [
    "# Creamos tabla de Capitalizaciones\n",
    "index = ['Cap. Deuda a FRA 91',\n",
    "        'Cap. Deuda a Mercado 91',\n",
    "        'FRA-Mercado',\n",
    "        'Fra-Mercado VA']\n",
    "columns = ['Value']\n",
    "capital = pd.DataFrame(index = index, columns = columns)\n",
    "\n",
    "capital['Value'].iloc[0] = deuda*(1 + resumen['FRA 91'].iloc[0])\n",
    "capital['Value'].iloc[1] = deuda*(1 + resumen['FRA 91'].iloc[2])\n",
    "capital['Value'].iloc[2] = capital['Value'].iloc[1] - capital['Value'].iloc[0]\n",
    "capital['Value'].iloc[3] = capital['Value'].iloc[2]/(1 + resumen['FRA 91'].iloc[2])\n",
    "print(capital)\n",
    "\n",
    "if capital['Value'].iloc[3] > 0:\n",
    "    print(\"\\nEsta cantidad se acredita al cliente\")\n",
    "else:\n",
    "    print(\"\\nEsta cantidad se acredita a la institución financiera\")\n"
   ]
  },
  {
   "cell_type": "code",
   "execution_count": 189,
   "metadata": {},
   "outputs": [
    {
     "name": "stdout",
     "output_type": "stream",
     "text": [
      "                     Value\n",
      "Con Cobertura 4,864,773.22\n",
      "Sin Cobertura 4,982,000.00\n",
      "Conveniencia    117,226.78\n",
      "\n",
      "Conviene la cobertura\n"
     ]
    }
   ],
   "source": [
    "# Creamos tabla de Liquidaciones y Conveniencia\n",
    "index = ['Con Cobertura',\n",
    "        'Sin Cobertura',\n",
    "        'Conveniencia']\n",
    "columns = ['Value']\n",
    "conv = pd.DataFrame(index = index, columns = columns)\n",
    "\n",
    "conv['Value'].iloc[0] = deuda*(1 + resumen['FRA 91'].iloc[0])\n",
    "conv['Value'].iloc[1] = deuda*(1 + resumen['FRA 91'].iloc[2])\n",
    "conv['Value'].iloc[2] = conv['Value'].iloc[1] - conv['Value'].iloc[0]\n",
    "print(conv)\n",
    "\n",
    "if conv['Value'].iloc[2] > 0:\n",
    "    print(\"\\nConviene la cobertura\")\n",
    "else:\n",
    "    print(\"\\nNo conviene la cobertura\")"
   ]
  }
 ],
 "metadata": {
  "kernelspec": {
   "display_name": "Python 3",
   "language": "python",
   "name": "python3"
  },
  "language_info": {
   "codemirror_mode": {
    "name": "ipython",
    "version": 3
   },
   "file_extension": ".py",
   "mimetype": "text/x-python",
   "name": "python",
   "nbconvert_exporter": "python",
   "pygments_lexer": "ipython3",
   "version": "3.8.5"
  }
 },
 "nbformat": 4,
 "nbformat_minor": 4
}
