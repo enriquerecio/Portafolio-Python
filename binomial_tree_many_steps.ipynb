{
 "cells": [
  {
   "cell_type": "markdown",
   "metadata": {},
   "source": [
    "### Modelo Binomial para valuación de opciones Europeas\n",
    "Enrique Recio"
   ]
  },
  {
   "cell_type": "code",
   "execution_count": 1,
   "metadata": {},
   "outputs": [],
   "source": [
    "import math\n",
    "import pandas as pd\n",
    "import numpy as np\n",
    "import yfinance as yf"
   ]
  },
  {
   "cell_type": "code",
   "execution_count": 2,
   "metadata": {},
   "outputs": [],
   "source": [
    "def price_download(stock, a, b, c):\n",
    "    \"\"\"\n",
    "    Descarga precios y crea columna de log_returns\n",
    "    \"\"\"\n",
    "    data = yf.download(stock, start=a, end=b)\n",
    "    cp = pd.DataFrame(data[c])\n",
    "    cp['log_ret'] = np.log(cp/cp.shift(1))\n",
    "    return cp"
   ]
  },
  {
   "cell_type": "code",
   "execution_count": 3,
   "metadata": {},
   "outputs": [],
   "source": [
    "def binomial(S, K, T, r, vol, N, l):\n",
    "    \"\"\"\n",
    "    Modelo Binomial para valuación de opciones Europeas Call y Put\n",
    "    S - precio del subyacente\n",
    "    K - precio del strike\n",
    "    T - plazo\n",
    "    r - tasa libre de riesgo\n",
    "    vol - volatilidad \n",
    "    N - numero de pasos en el modelo\n",
    "    l - equivalente deseado del plazo \n",
    "    \"\"\"\n",
    "    \n",
    "    dt = T/360/l\n",
    "    u =  math.exp(vol * math.sqrt(dt))\n",
    "    d = 1/u\n",
    "    p = (math.exp(r * dt) - d)/(u - d)\n",
    "    C = {}\n",
    "    \n",
    "    for m in range(0, N+1):\n",
    "            C[(N, m)] = max(S * (u ** (2*m - N)) - K, 0)\n",
    "\n",
    "            \n",
    "    for k in range(N-1, -1, -1):\n",
    "        for m in range(0, k+1):\n",
    "            C[(k, m)] = math.exp(-r * dt) * (p * C[(k+1, m+1)] + (1-p) * C[(k+1, m)])\n",
    "\n",
    "            \n",
    "    call = C[(0,0)]\n",
    "    put = call - S + (K/(math.exp(r*dt) ** N))\n",
    "     \n",
    "    return call, put"
   ]
  },
  {
   "cell_type": "markdown",
   "metadata": {},
   "source": [
    "## Ejercicio 1\n",
    "Emisora: TSLA\n",
    "<br>\n",
    "Plazo: 360\n",
    "<br>\n",
    "Analizaremos el comportamiento del precio de la acción durante 5 trimestres (saltos trimestrales)"
   ]
  },
  {
   "cell_type": "code",
   "execution_count": 12,
   "metadata": {},
   "outputs": [
    {
     "name": "stdout",
     "output_type": "stream",
     "text": [
      "[*********************100%***********************]  1 of 1 completed\n"
     ]
    }
   ],
   "source": [
    "ticker = 'TSLA'\n",
    "inicio = '2019-10-07'\n",
    "final = '2020-10-06'\n",
    "precio = 'Adj Close'\n",
    "df = price_download(ticker, inicio, final, precio)"
   ]
  },
  {
   "cell_type": "code",
   "execution_count": 5,
   "metadata": {},
   "outputs": [],
   "source": [
    "S = df[precio].iloc[-1]\n",
    "K = 415.09\n",
    "T = 360\n",
    "r = 0.12/100\n",
    "vol = df['log_ret'].std()*np.sqrt(T)\n",
    "N = 5\n",
    "l = 4"
   ]
  },
  {
   "cell_type": "code",
   "execution_count": 6,
   "metadata": {},
   "outputs": [
    {
     "name": "stdout",
     "output_type": "stream",
     "text": [
      "TSLA\n",
      "Call: 200.68\n",
      "Put: 189.47\n"
     ]
    }
   ],
   "source": [
    "prices = np.round(binomial(S, K, T, r, vol, N, l), decimals = 2)\n",
    "print(f\"{ticker}\\nCall: {prices[0]}\\nPut: {prices[1]}\")"
   ]
  },
  {
   "cell_type": "markdown",
   "metadata": {},
   "source": [
    "## Ejercicio 2\n",
    "Emisora: AMZN\n",
    "<br>\n",
    "Plazo: 180\n",
    "<br>\n",
    "Analizaremos el comportamiento del precio de la acción durante 7 meses (saltos mes a mes)"
   ]
  },
  {
   "cell_type": "code",
   "execution_count": 7,
   "metadata": {
    "scrolled": true
   },
   "outputs": [
    {
     "name": "stdout",
     "output_type": "stream",
     "text": [
      "[*********************100%***********************]  1 of 1 completed\n"
     ]
    }
   ],
   "source": [
    "ticker = 'AMZN'\n",
    "inicio = '2020-04-06'\n",
    "final = '2020-10-03'\n",
    "precio = 'Adj Close'\n",
    "df = price_download(ticker, inicio, final, precio)"
   ]
  },
  {
   "cell_type": "code",
   "execution_count": 8,
   "metadata": {},
   "outputs": [],
   "source": [
    "S = df[precio].iloc[-1]\n",
    "K = 3125\n",
    "T = 180\n",
    "r = 0.1/100\n",
    "vol = df['log_ret'].std()*np.sqrt(T)\n",
    "N = 7\n",
    "l = 6"
   ]
  },
  {
   "cell_type": "code",
   "execution_count": 9,
   "metadata": {},
   "outputs": [
    {
     "name": "stdout",
     "output_type": "stream",
     "text": [
      "AMZN\n",
      "Call: 308.9945973970508\n",
      "Put: 307.17221231104213\n"
     ]
    }
   ],
   "source": [
    "prices = binomial(S, K, T, r, vol, N, l)\n",
    "print(f\"{ticker}\\nCall: {prices[0]}\\nPut: {prices[1]}\")"
   ]
  }
 ],
 "metadata": {
  "kernelspec": {
   "display_name": "Python 3 (ipykernel)",
   "language": "python",
   "name": "python3"
  },
  "language_info": {
   "codemirror_mode": {
    "name": "ipython",
    "version": 3
   },
   "file_extension": ".py",
   "mimetype": "text/x-python",
   "name": "python",
   "nbconvert_exporter": "python",
   "pygments_lexer": "ipython3",
   "version": "3.8.10"
  }
 },
 "nbformat": 4,
 "nbformat_minor": 4
}
